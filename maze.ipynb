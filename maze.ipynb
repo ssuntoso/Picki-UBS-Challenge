{
 "cells": [
  {
   "cell_type": "code",
   "execution_count": 1,
   "metadata": {},
   "outputs": [],
   "source": [
    "request_payload_example = {\n",
    "  \"mazeId\": \"3f184088-31fd-4231-a404-f76e257b8d0e\",\n",
    "  \"nearby\": [\n",
    "    [0, 0, 0],\n",
    "    [0, 3, 1],\n",
    "    [0, 0, 1]\n",
    "  ],\n",
    "  \"mazeWidth\": 4,\n",
    "  \"step\": 0,\n",
    "  \"isPreviousMovementValid\": False,\n",
    "  \"message\": \"\"\n",
    "}"
   ]
  },
  {
   "cell_type": "code",
   "execution_count": null,
   "metadata": {},
   "outputs": [],
   "source": [
    "def move(request_payload):\n",
    "    map = request_payload[\"nearby\"]\n",
    "    \n",
    "    # special dict\n",
    "    controls = [\"left\",\"up\",\"right\",\"down\",\"left\", \"up\"]\n",
    "    \n",
    "    # surrounding values\n",
    "    up = map[0][1]\n",
    "    down = map[2][1]\n",
    "    right = map[1][2]\n",
    "    left = map[1][0]\n",
    "    \n",
    "    # check side and front:\n",
    "    side_n_front = [\"up\", \"right\"]\n",
    "    \n",
    "    \n",
    "        \n",
    "    return [move]"
   ]
  }
 ],
 "metadata": {
  "kernelspec": {
   "display_name": "env",
   "language": "python",
   "name": "python3"
  },
  "language_info": {
   "codemirror_mode": {
    "name": "ipython",
    "version": 3
   },
   "file_extension": ".py",
   "mimetype": "text/x-python",
   "name": "python",
   "nbconvert_exporter": "python",
   "pygments_lexer": "ipython3",
   "version": "3.10.10"
  },
  "orig_nbformat": 4
 },
 "nbformat": 4,
 "nbformat_minor": 2
}
