{
 "cells": [
  {
   "cell_type": "code",
   "execution_count": 85,
   "metadata": {},
   "outputs": [],
   "source": [
    "import math"
   ]
  },
  {
   "cell_type": "code",
   "execution_count": 219,
   "metadata": {},
   "outputs": [],
   "source": [
    "example_payload = {\n",
    "  \"data\": [\n",
    "    {\n",
    "      \"quantity\": 110,\n",
    "      \"price\": 10.0,\n",
    "      \"currency\": \"SGD\",\n",
    "      \"sector\": \"ECommerce\",\n",
    "      \"assetClass\": \"Equity\",\n",
    "      \"region\": \"APAC\"\n",
    "    },\n",
    "    {\n",
    "      \"quantity\": 5,\n",
    "      \"price\": 1.0,\n",
    "      \"currency\": \"USD\",\n",
    "      \"sector\": \"Technology\",\n",
    "      \"assetClass\": \"Equity\",\n",
    "      \"region\": \"NORTH_AMERICA\"\n",
    "    },\n",
    "    {\n",
    "      \"quantity\": 39,\n",
    "      \"price\": 5.0,\n",
    "      \"currency\": \"GBP\",\n",
    "      \"sector\": \"Education\",\n",
    "      \"assetClass\": \"Equity\",\n",
    "      \"region\": \"EMEA\"\n",
    "    },\n",
    "    {\n",
    "      \"quantity\": 32,\n",
    "      \"price\": 100.0,\n",
    "      \"currency\": \"Other\",\n",
    "      \"sector\": \"Pharmaceutical\",\n",
    "      \"assetClass\": \"Equity\",\n",
    "      \"region\": \"APAC\"\n",
    "    },\n",
    "    {\n",
    "      \"quantity\": 200,\n",
    "      \"price\": 30.0,\n",
    "      \"currency\": \"HKD\",\n",
    "      \"sector\": \"Technology\",\n",
    "      \"assetClass\": \"FixedIncome\",\n",
    "      \"region\": \"APAC\"\n",
    "    }\n",
    "  ],\n",
    "  \"part\": \"FIRST\" \n",
    "}"
   ]
  },
  {
   "cell_type": "code",
   "execution_count": 220,
   "metadata": {},
   "outputs": [
    {
     "name": "stdout",
     "output_type": "stream",
     "text": [
      "[0, 3.5903916, 5.5052671, 5.6219548, 5.6249468, 6.2831853]\n"
     ]
    }
   ],
   "source": [
    "def drawPieChart(data):\n",
    "    porto = []\n",
    "    pie = [0]\n",
    "    for row in data:\n",
    "        porto.append(row[\"price\"]*row[\"quantity\"])\n",
    "    total = sum(porto)\n",
    "    for i in range(len(porto)):\n",
    "        porto[i] = (porto[i]/total)*6.28318531\n",
    "    for i in reversed(porto):\n",
    "        pie.append(round(i+pie[-1],7))\n",
    "    return pie\n",
    "print(drawPieChart(example_payload[\"data\"]))"
   ]
  },
  {
   "cell_type": "code",
   "execution_count": 242,
   "metadata": {},
   "outputs": [],
   "source": [
    "def drawPieChart(data):\n",
    "    porto = []\n",
    "    pie = [0]\n",
    "    for row in data:\n",
    "        porto.append(row[\"price\"]*row[\"quantity\"])\n",
    "    total = sum(porto)\n",
    "    for i in range(len(porto)):\n",
    "        porto[i] = (porto[i]/total)*6.28318531\n",
    "        \n",
    "    # readjustment section\n",
    "    diffs = []\n",
    "    for p in porto:\n",
    "        if p < 0.00314159:\n",
    "            # calculate difference\n",
    "            diff = 0.00314159 - p\n",
    "            diffs.append([diff,porto.index(p)])\n",
    "            # redefine\n",
    "            porto[porto.index(p)] = 0.00314159\n",
    "    \n",
    "    for diff in diffs:\n",
    "        diff_indices = [i[1] for i in diffs]\n",
    "        total = sum([i for i in porto if porto.index(i) not in diff_indices])\n",
    "        for p in porto:\n",
    "            if porto.index(p) not in diff_indices:\n",
    "                porto[porto.index(p)] = p - diff[0]*(p/total)\n",
    "                \n",
    "    # reverse and sum\n",
    "    porto.sort()\n",
    "    porto.reverse()\n",
    "    porto.insert(0,0.0)\n",
    "    \n",
    "    print(porto)\n",
    "    \n",
    "    pie = []\n",
    "    c = 0\n",
    "    for p in porto:\n",
    "        if c == 0:\n",
    "            pie.append(p)\n",
    "        else:\n",
    "            pie.append(p+pie[c-1])\n",
    "        c += 1\n",
    "        \n",
    "    return pie"
   ]
  },
  {
   "cell_type": "code",
   "execution_count": 243,
   "metadata": {},
   "outputs": [
    {
     "name": "stdout",
     "output_type": "stream",
     "text": [
      "[0.0, 3.590306080990948, 1.9148299098618393, 0.6582227815150071, 0.11668494763220583, 0.00314159]\n"
     ]
    }
   ],
   "source": [
    "a = (drawPieChart(example_payload[\"data\"]))"
   ]
  },
  {
   "cell_type": "code",
   "execution_count": 244,
   "metadata": {},
   "outputs": [
    {
     "name": "stdout",
     "output_type": "stream",
     "text": [
      "[0.0, 3.590306080990948, 5.5051359908527875, 6.163358772367794, 6.28004372, 6.28318531]\n"
     ]
    }
   ],
   "source": [
    "print(a)\n",
    "# print(sum(a))"
   ]
  },
  {
   "cell_type": "code",
   "execution_count": null,
   "metadata": {},
   "outputs": [],
   "source": []
  }
 ],
 "metadata": {
  "kernelspec": {
   "display_name": "env",
   "language": "python",
   "name": "python3"
  },
  "language_info": {
   "codemirror_mode": {
    "name": "ipython",
    "version": 3
   },
   "file_extension": ".py",
   "mimetype": "text/x-python",
   "name": "python",
   "nbconvert_exporter": "python",
   "pygments_lexer": "ipython3",
   "version": "3.10.10"
  },
  "orig_nbformat": 4
 },
 "nbformat": 4,
 "nbformat_minor": 2
}
