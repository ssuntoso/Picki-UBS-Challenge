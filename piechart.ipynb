{
 "cells": [
  {
   "cell_type": "code",
   "execution_count": 85,
   "metadata": {},
   "outputs": [],
   "source": [
    "import math"
   ]
  },
  {
   "cell_type": "code",
   "execution_count": 137,
   "metadata": {},
   "outputs": [],
   "source": [
    "example_payload = {\n",
    "  \"data\": [\n",
    "    {\n",
    "      \"quantity\": 110,\n",
    "      \"price\": 10.0,\n",
    "      \"currency\": \"SGD\",\n",
    "      \"sector\": \"ECommerce\",\n",
    "      \"assetClass\": \"Equity\",\n",
    "      \"region\": \"APAC\"\n",
    "    },\n",
    "    {\n",
    "      \"quantity\": 5,\n",
    "      \"price\": 1.0,\n",
    "      \"currency\": \"USD\",\n",
    "      \"sector\": \"Technology\",\n",
    "      \"assetClass\": \"Equity\",\n",
    "      \"region\": \"NORTH_AMERICA\"\n",
    "    },\n",
    "    {\n",
    "      \"quantity\": 39,\n",
    "      \"price\": 5.0,\n",
    "      \"currency\": \"GBP\",\n",
    "      \"sector\": \"Education\",\n",
    "      \"assetClass\": \"Equity\",\n",
    "      \"region\": \"EMEA\"\n",
    "    },\n",
    "    {\n",
    "      \"quantity\": 32,\n",
    "      \"price\": 100.0,\n",
    "      \"currency\": \"Other\",\n",
    "      \"sector\": \"Pharmaceutical\",\n",
    "      \"assetClass\": \"Equity\",\n",
    "      \"region\": \"APAC\"\n",
    "    },\n",
    "    {\n",
    "      \"quantity\": 200,\n",
    "      \"price\": 30.0,\n",
    "      \"currency\": \"HKD\",\n",
    "      \"sector\": \"Technology\",\n",
    "      \"assetClass\": \"FixedIncome\",\n",
    "      \"region\": \"APAC\"\n",
    "    }\n",
    "  ],\n",
    "  \"part\": \"FIRST\" \n",
    "}"
   ]
  },
  {
   "cell_type": "code",
   "execution_count": 174,
   "metadata": {},
   "outputs": [],
   "source": [
    "def drawPieChart(data):\n",
    "    porto = []\n",
    "    pie = [float(0)]\n",
    "    for row in data:\n",
    "        porto.append(row[\"price\"]*float(row[\"quantity\"]))\n",
    "    # print(porto)\n",
    "    total = sum(porto)\n",
    "    \n",
    "    \n",
    "    ## ADJUSTED OVER REWEIGHT\n",
    "    leftover_index = []\n",
    "    for i in range(len(porto)):\n",
    "        \n",
    "        if porto[i]/total < 0.0005:\n",
    "            # print(porto[i]/total)\n",
    "            porto[i] = 0.00314159\n",
    "            leftover_index.append(i)\n",
    "        porto[i] = (porto[i]/total)*2*math.pi\n",
    "    \n",
    "    total = sum(porto)\n",
    "    print(\"total: \"+str(total))\n",
    "    if len(leftover_index) != 0:\n",
    "        for i in range(1,len(porto)):\n",
    "            if i not in leftover_index:\n",
    "                over = total-2*math.pi\n",
    "                porto[i] = porto[i] - (over*porto[i]/2*math.pi)\n",
    "    \n",
    "    ## LEFTOVER METHOD\n",
    "    # leftover = 0\n",
    "    # leftover_index = []\n",
    "    # for i in range(len(porto)):\n",
    "        \n",
    "    #     if porto[i]/total < 0.0005:\n",
    "    #         print(porto[i]/total)\n",
    "    #         porto[i] = 0.00314159\n",
    "    #         leftover = 0.00314159 - (2*math.pi*porto[i]/total)\n",
    "    #         print(leftover)\n",
    "    #         leftover_index.append(i)\n",
    "    #     porto[i] = (porto[i]/total)*2*math.pi\n",
    "        \n",
    "    # if leftover != 0:\n",
    "    #     for i in range(1,len(porto)):\n",
    "    #         if i not in leftover_index:\n",
    "    #             porto[i] = porto[i] - (leftover/(len(porto)-len(leftover_index)))\n",
    "            \n",
    "\n",
    "    \n",
    "    for i in reversed(porto):\n",
    "        pie.append((i+pie[-1]))\n",
    "        \n",
    "    return pie    "
   ]
  },
  {
   "cell_type": "code",
   "execution_count": 175,
   "metadata": {},
   "outputs": [
    {
     "name": "stdout",
     "output_type": "stream",
     "text": [
      "total: 6.280195194099227\n",
      "total: 6.280743259858983\n",
      "total: 6.28808864377764\n"
     ]
    },
    {
     "data": {
      "text/plain": [
       "[0.0,\n",
       " 3.5627378941208057,\n",
       " 5.484958800227526,\n",
       " 5.602194593120617,\n",
       " 5.602196473043677,\n",
       " 6.260434933795825]"
      ]
     },
     "execution_count": 175,
     "metadata": {},
     "output_type": "execute_result"
    }
   ],
   "source": [
    "(drawPieChart(example_payload[\"data\"]))"
   ]
  },
  {
   "cell_type": "code",
   "execution_count": 95,
   "metadata": {},
   "outputs": [
    {
     "name": "stdout",
     "output_type": "stream",
     "text": [
      "6.283185307179586\n"
     ]
    }
   ],
   "source": [
    "print(2*math.pi)"
   ]
  },
  {
   "cell_type": "code",
   "execution_count": null,
   "metadata": {},
   "outputs": [],
   "source": []
  }
 ],
 "metadata": {
  "kernelspec": {
   "display_name": "env",
   "language": "python",
   "name": "python3"
  },
  "language_info": {
   "codemirror_mode": {
    "name": "ipython",
    "version": 3
   },
   "file_extension": ".py",
   "mimetype": "text/x-python",
   "name": "python",
   "nbconvert_exporter": "python",
   "pygments_lexer": "ipython3",
   "version": "3.10.10"
  },
  "orig_nbformat": 4
 },
 "nbformat": 4,
 "nbformat_minor": 2
}
