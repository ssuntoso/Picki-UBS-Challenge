{
 "cells": [
  {
   "cell_type": "code",
   "execution_count": 3,
   "metadata": {},
   "outputs": [],
   "source": [
    "import math\n",
    "import heapq"
   ]
  },
  {
   "cell_type": "code",
   "execution_count": 5,
   "metadata": {},
   "outputs": [],
   "source": [
    "example = {\n",
    "   \"k\": 10,\n",
    "   \"p\": [[0, 0], [0, 100], [100, 0], [100, 100]],\n",
    "   \"q\": [[1, 0], [1, 100], [ 99, 0], [ 99, 100]]\n",
    "}"
   ]
  },
  {
   "cell_type": "code",
   "execution_count": 6,
   "metadata": {},
   "outputs": [],
   "source": [
    "def heuristic(a, b):\n",
    "    return math.sqrt((a[0]-b[0])**2 + (a[1]-b[1])**2)\n",
    "\n",
    "def min_distance(case):\n",
    "    k = case['k']\n",
    "    p = [[0, 0]] + case['p']  # add the starting point to the list of teleportation hubs\n",
    "    q = case['q']\n",
    "    n = len(q)\n",
    "    m = len(p)\n",
    "\n",
    "    # Define the distance matrix\n",
    "    dist = [[heuristic(a, b) for b in p] for a in q]\n",
    "\n",
    "    # Initialize the priority queue with the starting state\n",
    "    queue = [(0, 0, k)]\n",
    "    visited = {(0,k): 0}\n",
    "\n",
    "    while queue:\n",
    "        d, node, orbs = heapq.heappop(queue)\n",
    "        if node == n-1:\n",
    "            return round(d, 2)\n",
    "        for j in range(m):\n",
    "            new_dist = d + dist[node][j]\n",
    "            if orbs > 0:\n",
    "                new_node = node + 1\n",
    "                new_orbs = orbs - 1\n",
    "            else:\n",
    "                new_node = node\n",
    "                new_orbs = orbs\n",
    "            if (new_node, new_orbs) not in visited or new_dist < visited[(new_node, new_orbs)]:\n",
    "                visited[(new_node, new_orbs)] = new_dist\n",
    "                heapq.heappush(queue, (new_dist + heuristic(q[new_node], p[j]), new_node, new_orbs))\n",
    "\n",
    "    return -1  # it's impossible to reach all delivery locations"
   ]
  },
  {
   "cell_type": "code",
   "execution_count": null,
   "metadata": {},
   "outputs": [],
   "source": [
    "def min_distance(data):\n",
    "    "
   ]
  },
  {
   "cell_type": "code",
   "execution_count": 7,
   "metadata": {},
   "outputs": [
    {
     "name": "stdout",
     "output_type": "stream",
     "text": [
      "343.73\n"
     ]
    }
   ],
   "source": [
    "print(min_distance(example))"
   ]
  },
  {
   "cell_type": "code",
   "execution_count": null,
   "metadata": {},
   "outputs": [],
   "source": []
  }
 ],
 "metadata": {
  "kernelspec": {
   "display_name": "env",
   "language": "python",
   "name": "python3"
  },
  "language_info": {
   "codemirror_mode": {
    "name": "ipython",
    "version": 3
   },
   "file_extension": ".py",
   "mimetype": "text/x-python",
   "name": "python",
   "nbconvert_exporter": "python",
   "pygments_lexer": "ipython3",
   "version": "3.10.10"
  },
  "orig_nbformat": 4
 },
 "nbformat": 4,
 "nbformat_minor": 2
}
